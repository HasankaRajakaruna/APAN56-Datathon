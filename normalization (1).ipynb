{
  "nbformat": 4,
  "nbformat_minor": 0,
  "metadata": {
    "colab": {
      "provenance": [],
      "machine_shape": "hm",
      "gpuType": "V100"
    },
    "kernelspec": {
      "name": "python3",
      "display_name": "Python 3"
    },
    "language_info": {
      "name": "python"
    },
    "accelerator": "GPU"
  },
  "cells": [
    {
      "cell_type": "code",
      "execution_count": 3,
      "metadata": {
        "colab": {
          "base_uri": "https://localhost:8080/"
        },
        "id": "YgIwKAK1g2wF",
        "outputId": "02658b0d-b7cf-4f29-8850-bf643383843d"
      },
      "outputs": [
        {
          "output_type": "stream",
          "name": "stdout",
          "text": [
            "Drive already mounted at /content/drive; to attempt to forcibly remount, call drive.mount(\"/content/drive\", force_remount=True).\n"
          ]
        }
      ],
      "source": [
        "from google.colab import drive\n",
        "drive.mount('/content/drive')"
      ]
    },
    {
      "cell_type": "code",
      "source": [
        "path = 'drive/My Drive/data'"
      ],
      "metadata": {
        "id": "Eqw918-VsyMy"
      },
      "execution_count": 4,
      "outputs": []
    },
    {
      "cell_type": "code",
      "source": [
        "import pandas as pd\n",
        "from matplotlib import pyplot as plt\n",
        "import numpy as np\n",
        "from sklearn.model_selection import train_test_split\n",
        "from keras.preprocessing.sequence import TimeseriesGenerator\n",
        "from sklearn.preprocessing import MinMaxScaler,StandardScaler\n",
        "import tensorflow as tf\n",
        "from sklearn.impute import SimpleImputer\n",
        "from sklearn.preprocessing import StandardScaler"
      ],
      "metadata": {
        "id": "ogH5vCNws7Ds"
      },
      "execution_count": 5,
      "outputs": []
    },
    {
      "cell_type": "code",
      "source": [
        "df = pd.read_csv('/content/drive/MyDrive/datathon/sorted_filtered_source_data.csv')"
      ],
      "metadata": {
        "id": "tBC0gouhtKga"
      },
      "execution_count": 6,
      "outputs": []
    },
    {
      "cell_type": "code",
      "source": [
        "df.shape\n"
      ],
      "metadata": {
        "colab": {
          "base_uri": "https://localhost:8080/"
        },
        "id": "QJLx8rdfth7u",
        "outputId": "5c953fbe-eb81-4db4-aaf7-00ceface6852"
      },
      "execution_count": 7,
      "outputs": [
        {
          "output_type": "execute_result",
          "data": {
            "text/plain": [
              "(4680360, 14)"
            ]
          },
          "metadata": {},
          "execution_count": 7
        }
      ]
    },
    {
      "cell_type": "code",
      "source": [
        "df"
      ],
      "metadata": {
        "colab": {
          "base_uri": "https://localhost:8080/",
          "height": 443
        },
        "id": "Cx6Fw207uiIh",
        "outputId": "f3e18300-b4b6-45ef-b04f-96fbde212a68"
      },
      "execution_count": 8,
      "outputs": [
        {
          "output_type": "execute_result",
          "data": {
            "text/plain": [
              "                                               customer_id  day_no  \\\n",
              "0        0000f727854b50bb95c054b39c1fe5c92e5ebcfa4bcb5d...       1   \n",
              "1        0000f727854b50bb95c054b39c1fe5c92e5ebcfa4bcb5d...       2   \n",
              "2        0000f727854b50bb95c054b39c1fe5c92e5ebcfa4bcb5d...       3   \n",
              "3        0000f727854b50bb95c054b39c1fe5c92e5ebcfa4bcb5d...       4   \n",
              "4        0000f727854b50bb95c054b39c1fe5c92e5ebcfa4bcb5d...       5   \n",
              "...                                                    ...     ...   \n",
              "4680355  fffff7f18e3f2477c5c981222df6260c01b0e9324cfc87...      86   \n",
              "4680356  fffff7f18e3f2477c5c981222df6260c01b0e9324cfc87...      87   \n",
              "4680357  fffff7f18e3f2477c5c981222df6260c01b0e9324cfc87...      88   \n",
              "4680358  fffff7f18e3f2477c5c981222df6260c01b0e9324cfc87...      89   \n",
              "4680359  fffff7f18e3f2477c5c981222df6260c01b0e9324cfc87...      90   \n",
              "\n",
              "         usage_app_facebook_daily  usage_app_helakuru_daily  usage_app_other  \\\n",
              "0                           60.31                     32.38           159.70   \n",
              "1                            0.00                     58.27            56.24   \n",
              "2                          133.73                     12.05           135.03   \n",
              "3                          262.71                      0.00           120.87   \n",
              "4                           96.26                     27.85           118.67   \n",
              "...                           ...                       ...              ...   \n",
              "4680355                    277.94                     48.34           303.31   \n",
              "4680356                    329.72                     49.20           451.45   \n",
              "4680357                    341.92                     48.99           413.73   \n",
              "4680358                    337.44                     50.05           341.92   \n",
              "4680359                    244.30                     50.85           448.51   \n",
              "\n",
              "         usage_app_tiktok_daily  usage_app_whatsapp_daily  \\\n",
              "0                         39.77                     12.23   \n",
              "1                        280.53                      6.47   \n",
              "2                        168.41                     10.51   \n",
              "3                        100.44                      9.33   \n",
              "4                        492.71                     10.04   \n",
              "...                         ...                       ...   \n",
              "4680355                    0.00                      0.00   \n",
              "4680356                    0.00                     11.65   \n",
              "4680357                    0.00                      0.00   \n",
              "4680358                    0.00                      0.00   \n",
              "4680359                    0.00                      0.00   \n",
              "\n",
              "         usage_app_youtube_daily  usage_pack_data  usage_pack_vas  \\\n",
              "0                           0.00           100.52           28.93   \n",
              "1                         242.45            99.60           15.20   \n",
              "2                         274.21            98.73           30.40   \n",
              "3                           0.00            99.64           20.88   \n",
              "4                         313.87            99.94           18.70   \n",
              "...                          ...              ...             ...   \n",
              "4680355                   261.67            48.31            0.00   \n",
              "4680356                   228.95             0.00            0.00   \n",
              "4680357                   223.03           154.70            0.00   \n",
              "4680358                   237.96           259.29            0.00   \n",
              "4680359                   214.72             0.00            0.00   \n",
              "\n",
              "         usage_voice_d2d_incoming  usage_voice_d2d_outgoing  \\\n",
              "0                           36.91                     55.62   \n",
              "1                            6.43                     67.57   \n",
              "2                           28.52                     98.07   \n",
              "3                           23.28                    215.60   \n",
              "4                           11.89                      0.00   \n",
              "...                           ...                       ...   \n",
              "4680355                     32.74                     43.46   \n",
              "4680356                     58.11                     11.80   \n",
              "4680357                     32.52                      9.40   \n",
              "4680358                      8.91                     71.29   \n",
              "4680359                     25.93                     38.42   \n",
              "\n",
              "         usage_voice_d2nd_outgoing  usage_voice_nd2d_incoming  \n",
              "0                            34.91                      10.47  \n",
              "1                            16.74                      16.54  \n",
              "2                            17.92                      15.46  \n",
              "3                            27.30                      19.80  \n",
              "4                            37.04                      16.75  \n",
              "...                            ...                        ...  \n",
              "4680355                       0.00                       0.00  \n",
              "4680356                       0.00                       0.00  \n",
              "4680357                       0.00                       0.00  \n",
              "4680358                       0.00                       0.00  \n",
              "4680359                      37.70                       0.00  \n",
              "\n",
              "[4680360 rows x 14 columns]"
            ],
            "text/html": [
              "\n",
              "  <div id=\"df-966f7e13-b60c-4c86-aeee-123c5b213bd9\" class=\"colab-df-container\">\n",
              "    <div>\n",
              "<style scoped>\n",
              "    .dataframe tbody tr th:only-of-type {\n",
              "        vertical-align: middle;\n",
              "    }\n",
              "\n",
              "    .dataframe tbody tr th {\n",
              "        vertical-align: top;\n",
              "    }\n",
              "\n",
              "    .dataframe thead th {\n",
              "        text-align: right;\n",
              "    }\n",
              "</style>\n",
              "<table border=\"1\" class=\"dataframe\">\n",
              "  <thead>\n",
              "    <tr style=\"text-align: right;\">\n",
              "      <th></th>\n",
              "      <th>customer_id</th>\n",
              "      <th>day_no</th>\n",
              "      <th>usage_app_facebook_daily</th>\n",
              "      <th>usage_app_helakuru_daily</th>\n",
              "      <th>usage_app_other</th>\n",
              "      <th>usage_app_tiktok_daily</th>\n",
              "      <th>usage_app_whatsapp_daily</th>\n",
              "      <th>usage_app_youtube_daily</th>\n",
              "      <th>usage_pack_data</th>\n",
              "      <th>usage_pack_vas</th>\n",
              "      <th>usage_voice_d2d_incoming</th>\n",
              "      <th>usage_voice_d2d_outgoing</th>\n",
              "      <th>usage_voice_d2nd_outgoing</th>\n",
              "      <th>usage_voice_nd2d_incoming</th>\n",
              "    </tr>\n",
              "  </thead>\n",
              "  <tbody>\n",
              "    <tr>\n",
              "      <th>0</th>\n",
              "      <td>0000f727854b50bb95c054b39c1fe5c92e5ebcfa4bcb5d...</td>\n",
              "      <td>1</td>\n",
              "      <td>60.31</td>\n",
              "      <td>32.38</td>\n",
              "      <td>159.70</td>\n",
              "      <td>39.77</td>\n",
              "      <td>12.23</td>\n",
              "      <td>0.00</td>\n",
              "      <td>100.52</td>\n",
              "      <td>28.93</td>\n",
              "      <td>36.91</td>\n",
              "      <td>55.62</td>\n",
              "      <td>34.91</td>\n",
              "      <td>10.47</td>\n",
              "    </tr>\n",
              "    <tr>\n",
              "      <th>1</th>\n",
              "      <td>0000f727854b50bb95c054b39c1fe5c92e5ebcfa4bcb5d...</td>\n",
              "      <td>2</td>\n",
              "      <td>0.00</td>\n",
              "      <td>58.27</td>\n",
              "      <td>56.24</td>\n",
              "      <td>280.53</td>\n",
              "      <td>6.47</td>\n",
              "      <td>242.45</td>\n",
              "      <td>99.60</td>\n",
              "      <td>15.20</td>\n",
              "      <td>6.43</td>\n",
              "      <td>67.57</td>\n",
              "      <td>16.74</td>\n",
              "      <td>16.54</td>\n",
              "    </tr>\n",
              "    <tr>\n",
              "      <th>2</th>\n",
              "      <td>0000f727854b50bb95c054b39c1fe5c92e5ebcfa4bcb5d...</td>\n",
              "      <td>3</td>\n",
              "      <td>133.73</td>\n",
              "      <td>12.05</td>\n",
              "      <td>135.03</td>\n",
              "      <td>168.41</td>\n",
              "      <td>10.51</td>\n",
              "      <td>274.21</td>\n",
              "      <td>98.73</td>\n",
              "      <td>30.40</td>\n",
              "      <td>28.52</td>\n",
              "      <td>98.07</td>\n",
              "      <td>17.92</td>\n",
              "      <td>15.46</td>\n",
              "    </tr>\n",
              "    <tr>\n",
              "      <th>3</th>\n",
              "      <td>0000f727854b50bb95c054b39c1fe5c92e5ebcfa4bcb5d...</td>\n",
              "      <td>4</td>\n",
              "      <td>262.71</td>\n",
              "      <td>0.00</td>\n",
              "      <td>120.87</td>\n",
              "      <td>100.44</td>\n",
              "      <td>9.33</td>\n",
              "      <td>0.00</td>\n",
              "      <td>99.64</td>\n",
              "      <td>20.88</td>\n",
              "      <td>23.28</td>\n",
              "      <td>215.60</td>\n",
              "      <td>27.30</td>\n",
              "      <td>19.80</td>\n",
              "    </tr>\n",
              "    <tr>\n",
              "      <th>4</th>\n",
              "      <td>0000f727854b50bb95c054b39c1fe5c92e5ebcfa4bcb5d...</td>\n",
              "      <td>5</td>\n",
              "      <td>96.26</td>\n",
              "      <td>27.85</td>\n",
              "      <td>118.67</td>\n",
              "      <td>492.71</td>\n",
              "      <td>10.04</td>\n",
              "      <td>313.87</td>\n",
              "      <td>99.94</td>\n",
              "      <td>18.70</td>\n",
              "      <td>11.89</td>\n",
              "      <td>0.00</td>\n",
              "      <td>37.04</td>\n",
              "      <td>16.75</td>\n",
              "    </tr>\n",
              "    <tr>\n",
              "      <th>...</th>\n",
              "      <td>...</td>\n",
              "      <td>...</td>\n",
              "      <td>...</td>\n",
              "      <td>...</td>\n",
              "      <td>...</td>\n",
              "      <td>...</td>\n",
              "      <td>...</td>\n",
              "      <td>...</td>\n",
              "      <td>...</td>\n",
              "      <td>...</td>\n",
              "      <td>...</td>\n",
              "      <td>...</td>\n",
              "      <td>...</td>\n",
              "      <td>...</td>\n",
              "    </tr>\n",
              "    <tr>\n",
              "      <th>4680355</th>\n",
              "      <td>fffff7f18e3f2477c5c981222df6260c01b0e9324cfc87...</td>\n",
              "      <td>86</td>\n",
              "      <td>277.94</td>\n",
              "      <td>48.34</td>\n",
              "      <td>303.31</td>\n",
              "      <td>0.00</td>\n",
              "      <td>0.00</td>\n",
              "      <td>261.67</td>\n",
              "      <td>48.31</td>\n",
              "      <td>0.00</td>\n",
              "      <td>32.74</td>\n",
              "      <td>43.46</td>\n",
              "      <td>0.00</td>\n",
              "      <td>0.00</td>\n",
              "    </tr>\n",
              "    <tr>\n",
              "      <th>4680356</th>\n",
              "      <td>fffff7f18e3f2477c5c981222df6260c01b0e9324cfc87...</td>\n",
              "      <td>87</td>\n",
              "      <td>329.72</td>\n",
              "      <td>49.20</td>\n",
              "      <td>451.45</td>\n",
              "      <td>0.00</td>\n",
              "      <td>11.65</td>\n",
              "      <td>228.95</td>\n",
              "      <td>0.00</td>\n",
              "      <td>0.00</td>\n",
              "      <td>58.11</td>\n",
              "      <td>11.80</td>\n",
              "      <td>0.00</td>\n",
              "      <td>0.00</td>\n",
              "    </tr>\n",
              "    <tr>\n",
              "      <th>4680357</th>\n",
              "      <td>fffff7f18e3f2477c5c981222df6260c01b0e9324cfc87...</td>\n",
              "      <td>88</td>\n",
              "      <td>341.92</td>\n",
              "      <td>48.99</td>\n",
              "      <td>413.73</td>\n",
              "      <td>0.00</td>\n",
              "      <td>0.00</td>\n",
              "      <td>223.03</td>\n",
              "      <td>154.70</td>\n",
              "      <td>0.00</td>\n",
              "      <td>32.52</td>\n",
              "      <td>9.40</td>\n",
              "      <td>0.00</td>\n",
              "      <td>0.00</td>\n",
              "    </tr>\n",
              "    <tr>\n",
              "      <th>4680358</th>\n",
              "      <td>fffff7f18e3f2477c5c981222df6260c01b0e9324cfc87...</td>\n",
              "      <td>89</td>\n",
              "      <td>337.44</td>\n",
              "      <td>50.05</td>\n",
              "      <td>341.92</td>\n",
              "      <td>0.00</td>\n",
              "      <td>0.00</td>\n",
              "      <td>237.96</td>\n",
              "      <td>259.29</td>\n",
              "      <td>0.00</td>\n",
              "      <td>8.91</td>\n",
              "      <td>71.29</td>\n",
              "      <td>0.00</td>\n",
              "      <td>0.00</td>\n",
              "    </tr>\n",
              "    <tr>\n",
              "      <th>4680359</th>\n",
              "      <td>fffff7f18e3f2477c5c981222df6260c01b0e9324cfc87...</td>\n",
              "      <td>90</td>\n",
              "      <td>244.30</td>\n",
              "      <td>50.85</td>\n",
              "      <td>448.51</td>\n",
              "      <td>0.00</td>\n",
              "      <td>0.00</td>\n",
              "      <td>214.72</td>\n",
              "      <td>0.00</td>\n",
              "      <td>0.00</td>\n",
              "      <td>25.93</td>\n",
              "      <td>38.42</td>\n",
              "      <td>37.70</td>\n",
              "      <td>0.00</td>\n",
              "    </tr>\n",
              "  </tbody>\n",
              "</table>\n",
              "<p>4680360 rows × 14 columns</p>\n",
              "</div>\n",
              "    <div class=\"colab-df-buttons\">\n",
              "\n",
              "  <div class=\"colab-df-container\">\n",
              "    <button class=\"colab-df-convert\" onclick=\"convertToInteractive('df-966f7e13-b60c-4c86-aeee-123c5b213bd9')\"\n",
              "            title=\"Convert this dataframe to an interactive table.\"\n",
              "            style=\"display:none;\">\n",
              "\n",
              "  <svg xmlns=\"http://www.w3.org/2000/svg\" height=\"24px\" viewBox=\"0 -960 960 960\">\n",
              "    <path d=\"M120-120v-720h720v720H120Zm60-500h600v-160H180v160Zm220 220h160v-160H400v160Zm0 220h160v-160H400v160ZM180-400h160v-160H180v160Zm440 0h160v-160H620v160ZM180-180h160v-160H180v160Zm440 0h160v-160H620v160Z\"/>\n",
              "  </svg>\n",
              "    </button>\n",
              "\n",
              "  <style>\n",
              "    .colab-df-container {\n",
              "      display:flex;\n",
              "      gap: 12px;\n",
              "    }\n",
              "\n",
              "    .colab-df-convert {\n",
              "      background-color: #E8F0FE;\n",
              "      border: none;\n",
              "      border-radius: 50%;\n",
              "      cursor: pointer;\n",
              "      display: none;\n",
              "      fill: #1967D2;\n",
              "      height: 32px;\n",
              "      padding: 0 0 0 0;\n",
              "      width: 32px;\n",
              "    }\n",
              "\n",
              "    .colab-df-convert:hover {\n",
              "      background-color: #E2EBFA;\n",
              "      box-shadow: 0px 1px 2px rgba(60, 64, 67, 0.3), 0px 1px 3px 1px rgba(60, 64, 67, 0.15);\n",
              "      fill: #174EA6;\n",
              "    }\n",
              "\n",
              "    .colab-df-buttons div {\n",
              "      margin-bottom: 4px;\n",
              "    }\n",
              "\n",
              "    [theme=dark] .colab-df-convert {\n",
              "      background-color: #3B4455;\n",
              "      fill: #D2E3FC;\n",
              "    }\n",
              "\n",
              "    [theme=dark] .colab-df-convert:hover {\n",
              "      background-color: #434B5C;\n",
              "      box-shadow: 0px 1px 3px 1px rgba(0, 0, 0, 0.15);\n",
              "      filter: drop-shadow(0px 1px 2px rgba(0, 0, 0, 0.3));\n",
              "      fill: #FFFFFF;\n",
              "    }\n",
              "  </style>\n",
              "\n",
              "    <script>\n",
              "      const buttonEl =\n",
              "        document.querySelector('#df-966f7e13-b60c-4c86-aeee-123c5b213bd9 button.colab-df-convert');\n",
              "      buttonEl.style.display =\n",
              "        google.colab.kernel.accessAllowed ? 'block' : 'none';\n",
              "\n",
              "      async function convertToInteractive(key) {\n",
              "        const element = document.querySelector('#df-966f7e13-b60c-4c86-aeee-123c5b213bd9');\n",
              "        const dataTable =\n",
              "          await google.colab.kernel.invokeFunction('convertToInteractive',\n",
              "                                                    [key], {});\n",
              "        if (!dataTable) return;\n",
              "\n",
              "        const docLinkHtml = 'Like what you see? Visit the ' +\n",
              "          '<a target=\"_blank\" href=https://colab.research.google.com/notebooks/data_table.ipynb>data table notebook</a>'\n",
              "          + ' to learn more about interactive tables.';\n",
              "        element.innerHTML = '';\n",
              "        dataTable['output_type'] = 'display_data';\n",
              "        await google.colab.output.renderOutput(dataTable, element);\n",
              "        const docLink = document.createElement('div');\n",
              "        docLink.innerHTML = docLinkHtml;\n",
              "        element.appendChild(docLink);\n",
              "      }\n",
              "    </script>\n",
              "  </div>\n",
              "\n",
              "\n",
              "<div id=\"df-2f26da9d-98f1-4c02-8d15-d674608254b5\">\n",
              "  <button class=\"colab-df-quickchart\" onclick=\"quickchart('df-2f26da9d-98f1-4c02-8d15-d674608254b5')\"\n",
              "            title=\"Suggest charts.\"\n",
              "            style=\"display:none;\">\n",
              "\n",
              "<svg xmlns=\"http://www.w3.org/2000/svg\" height=\"24px\"viewBox=\"0 0 24 24\"\n",
              "     width=\"24px\">\n",
              "    <g>\n",
              "        <path d=\"M19 3H5c-1.1 0-2 .9-2 2v14c0 1.1.9 2 2 2h14c1.1 0 2-.9 2-2V5c0-1.1-.9-2-2-2zM9 17H7v-7h2v7zm4 0h-2V7h2v10zm4 0h-2v-4h2v4z\"/>\n",
              "    </g>\n",
              "</svg>\n",
              "  </button>\n",
              "\n",
              "<style>\n",
              "  .colab-df-quickchart {\n",
              "    background-color: #E8F0FE;\n",
              "    border: none;\n",
              "    border-radius: 50%;\n",
              "    cursor: pointer;\n",
              "    display: none;\n",
              "    fill: #1967D2;\n",
              "    height: 32px;\n",
              "    padding: 0 0 0 0;\n",
              "    width: 32px;\n",
              "  }\n",
              "\n",
              "  .colab-df-quickchart:hover {\n",
              "    background-color: #E2EBFA;\n",
              "    box-shadow: 0px 1px 2px rgba(60, 64, 67, 0.3), 0px 1px 3px 1px rgba(60, 64, 67, 0.15);\n",
              "    fill: #174EA6;\n",
              "  }\n",
              "\n",
              "  [theme=dark] .colab-df-quickchart {\n",
              "    background-color: #3B4455;\n",
              "    fill: #D2E3FC;\n",
              "  }\n",
              "\n",
              "  [theme=dark] .colab-df-quickchart:hover {\n",
              "    background-color: #434B5C;\n",
              "    box-shadow: 0px 1px 3px 1px rgba(0, 0, 0, 0.15);\n",
              "    filter: drop-shadow(0px 1px 2px rgba(0, 0, 0, 0.3));\n",
              "    fill: #FFFFFF;\n",
              "  }\n",
              "</style>\n",
              "\n",
              "  <script>\n",
              "    async function quickchart(key) {\n",
              "      const charts = await google.colab.kernel.invokeFunction(\n",
              "          'suggestCharts', [key], {});\n",
              "    }\n",
              "    (() => {\n",
              "      let quickchartButtonEl =\n",
              "        document.querySelector('#df-2f26da9d-98f1-4c02-8d15-d674608254b5 button');\n",
              "      quickchartButtonEl.style.display =\n",
              "        google.colab.kernel.accessAllowed ? 'block' : 'none';\n",
              "    })();\n",
              "  </script>\n",
              "</div>\n",
              "    </div>\n",
              "  </div>\n"
            ]
          },
          "metadata": {},
          "execution_count": 8
        }
      ]
    },
    {
      "cell_type": "code",
      "source": [
        "# melted_df = pd.melt(df, id_vars=['customer_id', 'daily_usage'], var_name='day_no', value_name='data_usage')\n",
        "\n",
        "# pivoted_df = melted_df.pivot_table(index=['customer_id', 'day_no'], columns='daily_usage', values='data_usage', aggfunc='first')\n",
        "\n",
        "# pivoted_df = pivoted_df.reset_index()\n",
        "\n",
        "\n",
        "# pivoted_df.columns.name = None\n",
        "# pivoted_df.columns = ['customer_id', 'day_no'] + [f\"{app}\" for app in pivoted_df.columns[2:]]\n",
        "\n",
        "# pivoted_df.head(15)\n",
        "\n",
        "# melted_df = pd.melt(df, id_vars=['customer_id', 'daily_usage'], var_name='day_no', value_name='data_usage')\n",
        "\n",
        "# # Pivot the melted dataframe to get application names as columns\n",
        "# pivoted_df = melted_df.pivot_table(index=['customer_id', 'day_no'], columns='daily_usage', values='data_usage', aggfunc='first')\n",
        "\n",
        "# # Reset index to bring 'customer_id' and 'day_no' back as columns\n",
        "# pivoted_df = pivoted_df.reset_index()\n",
        "\n",
        "# # Rename the columns for application names\n",
        "# pivoted_df.columns.name = None\n",
        "# pivoted_df.columns = ['customer_id', 'day_no'] + [f\"{app}\" for app in pivoted_df.columns[2:]]\n",
        "\n",
        "# pivoted_df['day_no'] = pivoted_df['day_no'].astype(int)\n",
        "# pivoted_df = pivoted_df.sort_values(by=['customer_id', 'day_no'])\n",
        "\n",
        "# # Reset index again after sorting\n",
        "# pivoted_df = pivoted_df.reset_index(drop=True)\n",
        "\n",
        "# # Assuming 'pivoted_df' is the final transformed dataframe\n",
        "# pivoted_df.head(20)\n",
        "\n",
        "melted_df = pd.melt(df, id_vars=['customer_id', 'daily_usage'], var_name='day_no', value_name='data_usage')\n",
        "\n",
        "pivoted_df = melted_df.pivot_table(index=['customer_id', 'day_no'], columns='daily_usage', values='data_usage', aggfunc='first')\n",
        "\n",
        "pivoted_df = pivoted_df.reset_index()\n",
        "\n",
        "pivoted_df.columns.name = None\n",
        "pivoted_df.columns = ['customer_id', 'day_no'] + [f\"{app}\" for app in pivoted_df.columns[2:]]\n",
        "pivoted_df['day_no'] = pivoted_df['day_no'].str.extract('(\\d+)').astype(int)\n",
        "pivoted_df = pivoted_df.sort_values(by=['customer_id', 'day_no'])\n",
        "\n",
        "pivoted_df = pivoted_df.reset_index(drop=True)\n",
        "print(pivoted_df.head(20))\n",
        "\n"
      ],
      "metadata": {
        "id": "YgwDghpiuj_B",
        "colab": {
          "base_uri": "https://localhost:8080/",
          "height": 383
        },
        "outputId": "6dee44eb-12a2-4e2e-9e34-21387c5c73dc"
      },
      "execution_count": 9,
      "outputs": [
        {
          "output_type": "error",
          "ename": "KeyError",
          "evalue": "ignored",
          "traceback": [
            "\u001b[0;31m---------------------------------------------------------------------------\u001b[0m",
            "\u001b[0;31mKeyError\u001b[0m                                  Traceback (most recent call last)",
            "\u001b[0;32m<ipython-input-9-41e05acbd510>\u001b[0m in \u001b[0;36m<cell line: 34>\u001b[0;34m()\u001b[0m\n\u001b[1;32m     32\u001b[0m \u001b[0;31m# pivoted_df.head(20)\u001b[0m\u001b[0;34m\u001b[0m\u001b[0;34m\u001b[0m\u001b[0m\n\u001b[1;32m     33\u001b[0m \u001b[0;34m\u001b[0m\u001b[0m\n\u001b[0;32m---> 34\u001b[0;31m \u001b[0mmelted_df\u001b[0m \u001b[0;34m=\u001b[0m \u001b[0mpd\u001b[0m\u001b[0;34m.\u001b[0m\u001b[0mmelt\u001b[0m\u001b[0;34m(\u001b[0m\u001b[0mdf\u001b[0m\u001b[0;34m,\u001b[0m \u001b[0mid_vars\u001b[0m\u001b[0;34m=\u001b[0m\u001b[0;34m[\u001b[0m\u001b[0;34m'customer_id'\u001b[0m\u001b[0;34m,\u001b[0m \u001b[0;34m'daily_usage'\u001b[0m\u001b[0;34m]\u001b[0m\u001b[0;34m,\u001b[0m \u001b[0mvar_name\u001b[0m\u001b[0;34m=\u001b[0m\u001b[0;34m'day_no'\u001b[0m\u001b[0;34m,\u001b[0m \u001b[0mvalue_name\u001b[0m\u001b[0;34m=\u001b[0m\u001b[0;34m'data_usage'\u001b[0m\u001b[0;34m)\u001b[0m\u001b[0;34m\u001b[0m\u001b[0;34m\u001b[0m\u001b[0m\n\u001b[0m\u001b[1;32m     35\u001b[0m \u001b[0;34m\u001b[0m\u001b[0m\n\u001b[1;32m     36\u001b[0m \u001b[0mpivoted_df\u001b[0m \u001b[0;34m=\u001b[0m \u001b[0mmelted_df\u001b[0m\u001b[0;34m.\u001b[0m\u001b[0mpivot_table\u001b[0m\u001b[0;34m(\u001b[0m\u001b[0mindex\u001b[0m\u001b[0;34m=\u001b[0m\u001b[0;34m[\u001b[0m\u001b[0;34m'customer_id'\u001b[0m\u001b[0;34m,\u001b[0m \u001b[0;34m'day_no'\u001b[0m\u001b[0;34m]\u001b[0m\u001b[0;34m,\u001b[0m \u001b[0mcolumns\u001b[0m\u001b[0;34m=\u001b[0m\u001b[0;34m'daily_usage'\u001b[0m\u001b[0;34m,\u001b[0m \u001b[0mvalues\u001b[0m\u001b[0;34m=\u001b[0m\u001b[0;34m'data_usage'\u001b[0m\u001b[0;34m,\u001b[0m \u001b[0maggfunc\u001b[0m\u001b[0;34m=\u001b[0m\u001b[0;34m'first'\u001b[0m\u001b[0;34m)\u001b[0m\u001b[0;34m\u001b[0m\u001b[0;34m\u001b[0m\u001b[0m\n",
            "\u001b[0;32m/usr/local/lib/python3.10/dist-packages/pandas/core/reshape/melt.py\u001b[0m in \u001b[0;36mmelt\u001b[0;34m(frame, id_vars, value_vars, var_name, value_name, col_level, ignore_index)\u001b[0m\n\u001b[1;32m     75\u001b[0m             \u001b[0mmissing\u001b[0m \u001b[0;34m=\u001b[0m \u001b[0mIndex\u001b[0m\u001b[0;34m(\u001b[0m\u001b[0mcom\u001b[0m\u001b[0;34m.\u001b[0m\u001b[0mflatten\u001b[0m\u001b[0;34m(\u001b[0m\u001b[0mid_vars\u001b[0m\u001b[0;34m)\u001b[0m\u001b[0;34m)\u001b[0m\u001b[0;34m.\u001b[0m\u001b[0mdifference\u001b[0m\u001b[0;34m(\u001b[0m\u001b[0mcols\u001b[0m\u001b[0;34m)\u001b[0m\u001b[0;34m\u001b[0m\u001b[0;34m\u001b[0m\u001b[0m\n\u001b[1;32m     76\u001b[0m             \u001b[0;32mif\u001b[0m \u001b[0;32mnot\u001b[0m \u001b[0mmissing\u001b[0m\u001b[0;34m.\u001b[0m\u001b[0mempty\u001b[0m\u001b[0;34m:\u001b[0m\u001b[0;34m\u001b[0m\u001b[0;34m\u001b[0m\u001b[0m\n\u001b[0;32m---> 77\u001b[0;31m                 raise KeyError(\n\u001b[0m\u001b[1;32m     78\u001b[0m                     \u001b[0;34m\"The following 'id_vars' are not present \"\u001b[0m\u001b[0;34m\u001b[0m\u001b[0;34m\u001b[0m\u001b[0m\n\u001b[1;32m     79\u001b[0m                     \u001b[0;34mf\"in the DataFrame: {list(missing)}\"\u001b[0m\u001b[0;34m\u001b[0m\u001b[0;34m\u001b[0m\u001b[0m\n",
            "\u001b[0;31mKeyError\u001b[0m: \"The following 'id_vars' are not present in the DataFrame: ['daily_usage']\""
          ]
        }
      ]
    },
    {
      "cell_type": "code",
      "source": [
        "pivoted_df"
      ],
      "metadata": {
        "id": "wx0TRcDay7Rp"
      },
      "execution_count": null,
      "outputs": []
    },
    {
      "cell_type": "code",
      "source": [
        "missing_values = df.isna().sum()\n",
        "print(missing_values)\n",
        "missing_percentages = (df.isnull().sum() / len(df)) * 100\n",
        "print(missing_percentages)"
      ],
      "metadata": {
        "colab": {
          "base_uri": "https://localhost:8080/"
        },
        "id": "mYKaqiOZy9ln",
        "outputId": "aed57265-65e1-4284-dfea-b25c1d66a844"
      },
      "execution_count": 10,
      "outputs": [
        {
          "output_type": "stream",
          "name": "stdout",
          "text": [
            "customer_id                  0\n",
            "day_no                       0\n",
            "usage_app_facebook_daily     0\n",
            "usage_app_helakuru_daily     0\n",
            "usage_app_other              0\n",
            "usage_app_tiktok_daily       0\n",
            "usage_app_whatsapp_daily     0\n",
            "usage_app_youtube_daily      0\n",
            "usage_pack_data              0\n",
            "usage_pack_vas               0\n",
            "usage_voice_d2d_incoming     0\n",
            "usage_voice_d2d_outgoing     0\n",
            "usage_voice_d2nd_outgoing    0\n",
            "usage_voice_nd2d_incoming    0\n",
            "dtype: int64\n",
            "customer_id                  0.0\n",
            "day_no                       0.0\n",
            "usage_app_facebook_daily     0.0\n",
            "usage_app_helakuru_daily     0.0\n",
            "usage_app_other              0.0\n",
            "usage_app_tiktok_daily       0.0\n",
            "usage_app_whatsapp_daily     0.0\n",
            "usage_app_youtube_daily      0.0\n",
            "usage_pack_data              0.0\n",
            "usage_pack_vas               0.0\n",
            "usage_voice_d2d_incoming     0.0\n",
            "usage_voice_d2d_outgoing     0.0\n",
            "usage_voice_d2nd_outgoing    0.0\n",
            "usage_voice_nd2d_incoming    0.0\n",
            "dtype: float64\n"
          ]
        }
      ]
    },
    {
      "cell_type": "code",
      "source": [
        "customer_ids = pivoted_df['customer_id']\n",
        "days = pivoted_df['day_no']\n",
        "data_without_id = pivoted_df.drop(columns=['customer_id','day_no'])\n",
        "\n",
        "imputer = SimpleImputer(strategy='mean')\n",
        "data_imputed = imputer.fit_transform(data_without_id)\n",
        "\n",
        "imputed_df = pd.DataFrame(data_imputed, columns=data_without_id.columns)\n",
        "imputed_df.insert(0, 'customer_id', customer_ids)\n",
        "#imputed_df.insert(1, 'day_no', days) This one left as a comment because at first we did not convert the day values to numerical values\n",
        "imputed_df.to_csv('imputed_data.csv', index=False)"
      ],
      "metadata": {
        "id": "tJGEG_vQBLLq"
      },
      "execution_count": null,
      "outputs": []
    },
    {
      "cell_type": "code",
      "source": [
        "df.dtypes"
      ],
      "metadata": {
        "id": "rGUydX7jI6xn"
      },
      "execution_count": null,
      "outputs": []
    },
    {
      "cell_type": "code",
      "source": [
        "customer_id_column = df['customer_id']\n",
        "day_no_column = df['day_no']\n",
        "columns_to_normalize = df.columns.difference(['customer_id','day_no'])\n",
        "\n",
        "# Extract the columns you want to normalize using double square brackets\n",
        "features = df[columns_to_normalize]\n",
        "\n",
        "# Create a StandardScaler instance\n",
        "scaler = MinMaxScaler()\n",
        "\n",
        "# Fit the scaler on your feature data to compute mean and standard deviation\n",
        "scaler.fit(features)\n",
        "\n",
        "# Transform the features to have zero mean and unit variance\n",
        "normalized_features = scaler.transform(features)\n",
        "scaled_data = scaler.fit_transform(features)\n",
        "\n",
        "# Create a new DataFrame with normalized features\n",
        "normalized_data = pd.DataFrame(normalized_features, columns=columns_to_normalize)\n",
        "\n",
        "# Combine the customer_id column with the normalized features\n",
        "normalized_data = pd.concat([customer_id_column,day_no_column, normalized_data], axis=1)"
      ],
      "metadata": {
        "id": "iGHMpvHjM0Py"
      },
      "execution_count": 11,
      "outputs": []
    },
    {
      "cell_type": "code",
      "source": [
        "normalized_data"
      ],
      "metadata": {
        "colab": {
          "base_uri": "https://localhost:8080/",
          "height": 443
        },
        "id": "ECQAsP5yPPeC",
        "outputId": "3b9fc634-c45b-4a4f-f54c-442e9f82dfbc"
      },
      "execution_count": 12,
      "outputs": [
        {
          "output_type": "execute_result",
          "data": {
            "text/plain": [
              "                                               customer_id  day_no  \\\n",
              "0        0000f727854b50bb95c054b39c1fe5c92e5ebcfa4bcb5d...       1   \n",
              "1        0000f727854b50bb95c054b39c1fe5c92e5ebcfa4bcb5d...       2   \n",
              "2        0000f727854b50bb95c054b39c1fe5c92e5ebcfa4bcb5d...       3   \n",
              "3        0000f727854b50bb95c054b39c1fe5c92e5ebcfa4bcb5d...       4   \n",
              "4        0000f727854b50bb95c054b39c1fe5c92e5ebcfa4bcb5d...       5   \n",
              "...                                                    ...     ...   \n",
              "4680355  fffff7f18e3f2477c5c981222df6260c01b0e9324cfc87...      86   \n",
              "4680356  fffff7f18e3f2477c5c981222df6260c01b0e9324cfc87...      87   \n",
              "4680357  fffff7f18e3f2477c5c981222df6260c01b0e9324cfc87...      88   \n",
              "4680358  fffff7f18e3f2477c5c981222df6260c01b0e9324cfc87...      89   \n",
              "4680359  fffff7f18e3f2477c5c981222df6260c01b0e9324cfc87...      90   \n",
              "\n",
              "         usage_app_facebook_daily  usage_app_helakuru_daily  usage_app_other  \\\n",
              "0                        0.034228                  0.127541         0.068761   \n",
              "1                        0.000000                  0.229518         0.024215   \n",
              "2                        0.075897                  0.047463         0.058139   \n",
              "3                        0.149098                  0.000000         0.052042   \n",
              "4                        0.054631                  0.109697         0.051095   \n",
              "...                           ...                       ...              ...   \n",
              "4680355                  0.157741                  0.190405         0.130595   \n",
              "4680356                  0.187128                  0.193792         0.194379   \n",
              "4680357                  0.194052                  0.192965         0.178138   \n",
              "4680358                  0.191510                  0.197140         0.147219   \n",
              "4680359                  0.138649                  0.200291         0.193113   \n",
              "\n",
              "         usage_app_tiktok_daily  usage_app_whatsapp_daily  \\\n",
              "0                      0.025969                  0.047972   \n",
              "1                      0.183182                  0.025379   \n",
              "2                      0.109969                  0.041225   \n",
              "3                      0.065586                  0.036597   \n",
              "4                      0.321732                  0.039382   \n",
              "...                         ...                       ...   \n",
              "4680355                0.000000                  0.000000   \n",
              "4680356                0.000000                  0.045697   \n",
              "4680357                0.000000                  0.000000   \n",
              "4680358                0.000000                  0.000000   \n",
              "4680359                0.000000                  0.000000   \n",
              "\n",
              "         usage_app_youtube_daily  usage_pack_data  usage_pack_vas  \\\n",
              "0                       0.000000         0.042677        0.061548   \n",
              "1                       0.085401         0.042287        0.032338   \n",
              "2                       0.096589         0.041917        0.064675   \n",
              "3                       0.000000         0.042304        0.044422   \n",
              "4                       0.110558         0.042431        0.039784   \n",
              "...                          ...              ...             ...   \n",
              "4680355                 0.092171         0.020511        0.000000   \n",
              "4680356                 0.080646         0.000000        0.000000   \n",
              "4680357                 0.078561         0.065680        0.000000   \n",
              "4680358                 0.083820         0.110086        0.000000   \n",
              "4680359                 0.075634         0.000000        0.000000   \n",
              "\n",
              "         usage_voice_d2d_incoming  usage_voice_d2d_outgoing  \\\n",
              "0                        0.072048                  0.126616   \n",
              "1                        0.012551                  0.153820   \n",
              "2                        0.055671                  0.223252   \n",
              "3                        0.045442                  0.490803   \n",
              "4                        0.023209                  0.000000   \n",
              "...                           ...                       ...   \n",
              "4680355                  0.063908                  0.098935   \n",
              "4680356                  0.113430                  0.026862   \n",
              "4680357                  0.063478                  0.021399   \n",
              "4680358                  0.017392                  0.162288   \n",
              "4680359                  0.050615                  0.087461   \n",
              "\n",
              "         usage_voice_d2nd_outgoing  usage_voice_nd2d_incoming  \n",
              "0                         0.076843                   0.022298  \n",
              "1                         0.036848                   0.035225  \n",
              "2                         0.039445                   0.032925  \n",
              "3                         0.060092                   0.042168  \n",
              "4                         0.081532                   0.035672  \n",
              "...                            ...                        ...  \n",
              "4680355                   0.000000                   0.000000  \n",
              "4680356                   0.000000                   0.000000  \n",
              "4680357                   0.000000                   0.000000  \n",
              "4680358                   0.000000                   0.000000  \n",
              "4680359                   0.082985                   0.000000  \n",
              "\n",
              "[4680360 rows x 14 columns]"
            ],
            "text/html": [
              "\n",
              "  <div id=\"df-52875a4b-5e0a-48f5-9e78-945aac5435e2\" class=\"colab-df-container\">\n",
              "    <div>\n",
              "<style scoped>\n",
              "    .dataframe tbody tr th:only-of-type {\n",
              "        vertical-align: middle;\n",
              "    }\n",
              "\n",
              "    .dataframe tbody tr th {\n",
              "        vertical-align: top;\n",
              "    }\n",
              "\n",
              "    .dataframe thead th {\n",
              "        text-align: right;\n",
              "    }\n",
              "</style>\n",
              "<table border=\"1\" class=\"dataframe\">\n",
              "  <thead>\n",
              "    <tr style=\"text-align: right;\">\n",
              "      <th></th>\n",
              "      <th>customer_id</th>\n",
              "      <th>day_no</th>\n",
              "      <th>usage_app_facebook_daily</th>\n",
              "      <th>usage_app_helakuru_daily</th>\n",
              "      <th>usage_app_other</th>\n",
              "      <th>usage_app_tiktok_daily</th>\n",
              "      <th>usage_app_whatsapp_daily</th>\n",
              "      <th>usage_app_youtube_daily</th>\n",
              "      <th>usage_pack_data</th>\n",
              "      <th>usage_pack_vas</th>\n",
              "      <th>usage_voice_d2d_incoming</th>\n",
              "      <th>usage_voice_d2d_outgoing</th>\n",
              "      <th>usage_voice_d2nd_outgoing</th>\n",
              "      <th>usage_voice_nd2d_incoming</th>\n",
              "    </tr>\n",
              "  </thead>\n",
              "  <tbody>\n",
              "    <tr>\n",
              "      <th>0</th>\n",
              "      <td>0000f727854b50bb95c054b39c1fe5c92e5ebcfa4bcb5d...</td>\n",
              "      <td>1</td>\n",
              "      <td>0.034228</td>\n",
              "      <td>0.127541</td>\n",
              "      <td>0.068761</td>\n",
              "      <td>0.025969</td>\n",
              "      <td>0.047972</td>\n",
              "      <td>0.000000</td>\n",
              "      <td>0.042677</td>\n",
              "      <td>0.061548</td>\n",
              "      <td>0.072048</td>\n",
              "      <td>0.126616</td>\n",
              "      <td>0.076843</td>\n",
              "      <td>0.022298</td>\n",
              "    </tr>\n",
              "    <tr>\n",
              "      <th>1</th>\n",
              "      <td>0000f727854b50bb95c054b39c1fe5c92e5ebcfa4bcb5d...</td>\n",
              "      <td>2</td>\n",
              "      <td>0.000000</td>\n",
              "      <td>0.229518</td>\n",
              "      <td>0.024215</td>\n",
              "      <td>0.183182</td>\n",
              "      <td>0.025379</td>\n",
              "      <td>0.085401</td>\n",
              "      <td>0.042287</td>\n",
              "      <td>0.032338</td>\n",
              "      <td>0.012551</td>\n",
              "      <td>0.153820</td>\n",
              "      <td>0.036848</td>\n",
              "      <td>0.035225</td>\n",
              "    </tr>\n",
              "    <tr>\n",
              "      <th>2</th>\n",
              "      <td>0000f727854b50bb95c054b39c1fe5c92e5ebcfa4bcb5d...</td>\n",
              "      <td>3</td>\n",
              "      <td>0.075897</td>\n",
              "      <td>0.047463</td>\n",
              "      <td>0.058139</td>\n",
              "      <td>0.109969</td>\n",
              "      <td>0.041225</td>\n",
              "      <td>0.096589</td>\n",
              "      <td>0.041917</td>\n",
              "      <td>0.064675</td>\n",
              "      <td>0.055671</td>\n",
              "      <td>0.223252</td>\n",
              "      <td>0.039445</td>\n",
              "      <td>0.032925</td>\n",
              "    </tr>\n",
              "    <tr>\n",
              "      <th>3</th>\n",
              "      <td>0000f727854b50bb95c054b39c1fe5c92e5ebcfa4bcb5d...</td>\n",
              "      <td>4</td>\n",
              "      <td>0.149098</td>\n",
              "      <td>0.000000</td>\n",
              "      <td>0.052042</td>\n",
              "      <td>0.065586</td>\n",
              "      <td>0.036597</td>\n",
              "      <td>0.000000</td>\n",
              "      <td>0.042304</td>\n",
              "      <td>0.044422</td>\n",
              "      <td>0.045442</td>\n",
              "      <td>0.490803</td>\n",
              "      <td>0.060092</td>\n",
              "      <td>0.042168</td>\n",
              "    </tr>\n",
              "    <tr>\n",
              "      <th>4</th>\n",
              "      <td>0000f727854b50bb95c054b39c1fe5c92e5ebcfa4bcb5d...</td>\n",
              "      <td>5</td>\n",
              "      <td>0.054631</td>\n",
              "      <td>0.109697</td>\n",
              "      <td>0.051095</td>\n",
              "      <td>0.321732</td>\n",
              "      <td>0.039382</td>\n",
              "      <td>0.110558</td>\n",
              "      <td>0.042431</td>\n",
              "      <td>0.039784</td>\n",
              "      <td>0.023209</td>\n",
              "      <td>0.000000</td>\n",
              "      <td>0.081532</td>\n",
              "      <td>0.035672</td>\n",
              "    </tr>\n",
              "    <tr>\n",
              "      <th>...</th>\n",
              "      <td>...</td>\n",
              "      <td>...</td>\n",
              "      <td>...</td>\n",
              "      <td>...</td>\n",
              "      <td>...</td>\n",
              "      <td>...</td>\n",
              "      <td>...</td>\n",
              "      <td>...</td>\n",
              "      <td>...</td>\n",
              "      <td>...</td>\n",
              "      <td>...</td>\n",
              "      <td>...</td>\n",
              "      <td>...</td>\n",
              "      <td>...</td>\n",
              "    </tr>\n",
              "    <tr>\n",
              "      <th>4680355</th>\n",
              "      <td>fffff7f18e3f2477c5c981222df6260c01b0e9324cfc87...</td>\n",
              "      <td>86</td>\n",
              "      <td>0.157741</td>\n",
              "      <td>0.190405</td>\n",
              "      <td>0.130595</td>\n",
              "      <td>0.000000</td>\n",
              "      <td>0.000000</td>\n",
              "      <td>0.092171</td>\n",
              "      <td>0.020511</td>\n",
              "      <td>0.000000</td>\n",
              "      <td>0.063908</td>\n",
              "      <td>0.098935</td>\n",
              "      <td>0.000000</td>\n",
              "      <td>0.000000</td>\n",
              "    </tr>\n",
              "    <tr>\n",
              "      <th>4680356</th>\n",
              "      <td>fffff7f18e3f2477c5c981222df6260c01b0e9324cfc87...</td>\n",
              "      <td>87</td>\n",
              "      <td>0.187128</td>\n",
              "      <td>0.193792</td>\n",
              "      <td>0.194379</td>\n",
              "      <td>0.000000</td>\n",
              "      <td>0.045697</td>\n",
              "      <td>0.080646</td>\n",
              "      <td>0.000000</td>\n",
              "      <td>0.000000</td>\n",
              "      <td>0.113430</td>\n",
              "      <td>0.026862</td>\n",
              "      <td>0.000000</td>\n",
              "      <td>0.000000</td>\n",
              "    </tr>\n",
              "    <tr>\n",
              "      <th>4680357</th>\n",
              "      <td>fffff7f18e3f2477c5c981222df6260c01b0e9324cfc87...</td>\n",
              "      <td>88</td>\n",
              "      <td>0.194052</td>\n",
              "      <td>0.192965</td>\n",
              "      <td>0.178138</td>\n",
              "      <td>0.000000</td>\n",
              "      <td>0.000000</td>\n",
              "      <td>0.078561</td>\n",
              "      <td>0.065680</td>\n",
              "      <td>0.000000</td>\n",
              "      <td>0.063478</td>\n",
              "      <td>0.021399</td>\n",
              "      <td>0.000000</td>\n",
              "      <td>0.000000</td>\n",
              "    </tr>\n",
              "    <tr>\n",
              "      <th>4680358</th>\n",
              "      <td>fffff7f18e3f2477c5c981222df6260c01b0e9324cfc87...</td>\n",
              "      <td>89</td>\n",
              "      <td>0.191510</td>\n",
              "      <td>0.197140</td>\n",
              "      <td>0.147219</td>\n",
              "      <td>0.000000</td>\n",
              "      <td>0.000000</td>\n",
              "      <td>0.083820</td>\n",
              "      <td>0.110086</td>\n",
              "      <td>0.000000</td>\n",
              "      <td>0.017392</td>\n",
              "      <td>0.162288</td>\n",
              "      <td>0.000000</td>\n",
              "      <td>0.000000</td>\n",
              "    </tr>\n",
              "    <tr>\n",
              "      <th>4680359</th>\n",
              "      <td>fffff7f18e3f2477c5c981222df6260c01b0e9324cfc87...</td>\n",
              "      <td>90</td>\n",
              "      <td>0.138649</td>\n",
              "      <td>0.200291</td>\n",
              "      <td>0.193113</td>\n",
              "      <td>0.000000</td>\n",
              "      <td>0.000000</td>\n",
              "      <td>0.075634</td>\n",
              "      <td>0.000000</td>\n",
              "      <td>0.000000</td>\n",
              "      <td>0.050615</td>\n",
              "      <td>0.087461</td>\n",
              "      <td>0.082985</td>\n",
              "      <td>0.000000</td>\n",
              "    </tr>\n",
              "  </tbody>\n",
              "</table>\n",
              "<p>4680360 rows × 14 columns</p>\n",
              "</div>\n",
              "    <div class=\"colab-df-buttons\">\n",
              "\n",
              "  <div class=\"colab-df-container\">\n",
              "    <button class=\"colab-df-convert\" onclick=\"convertToInteractive('df-52875a4b-5e0a-48f5-9e78-945aac5435e2')\"\n",
              "            title=\"Convert this dataframe to an interactive table.\"\n",
              "            style=\"display:none;\">\n",
              "\n",
              "  <svg xmlns=\"http://www.w3.org/2000/svg\" height=\"24px\" viewBox=\"0 -960 960 960\">\n",
              "    <path d=\"M120-120v-720h720v720H120Zm60-500h600v-160H180v160Zm220 220h160v-160H400v160Zm0 220h160v-160H400v160ZM180-400h160v-160H180v160Zm440 0h160v-160H620v160ZM180-180h160v-160H180v160Zm440 0h160v-160H620v160Z\"/>\n",
              "  </svg>\n",
              "    </button>\n",
              "\n",
              "  <style>\n",
              "    .colab-df-container {\n",
              "      display:flex;\n",
              "      gap: 12px;\n",
              "    }\n",
              "\n",
              "    .colab-df-convert {\n",
              "      background-color: #E8F0FE;\n",
              "      border: none;\n",
              "      border-radius: 50%;\n",
              "      cursor: pointer;\n",
              "      display: none;\n",
              "      fill: #1967D2;\n",
              "      height: 32px;\n",
              "      padding: 0 0 0 0;\n",
              "      width: 32px;\n",
              "    }\n",
              "\n",
              "    .colab-df-convert:hover {\n",
              "      background-color: #E2EBFA;\n",
              "      box-shadow: 0px 1px 2px rgba(60, 64, 67, 0.3), 0px 1px 3px 1px rgba(60, 64, 67, 0.15);\n",
              "      fill: #174EA6;\n",
              "    }\n",
              "\n",
              "    .colab-df-buttons div {\n",
              "      margin-bottom: 4px;\n",
              "    }\n",
              "\n",
              "    [theme=dark] .colab-df-convert {\n",
              "      background-color: #3B4455;\n",
              "      fill: #D2E3FC;\n",
              "    }\n",
              "\n",
              "    [theme=dark] .colab-df-convert:hover {\n",
              "      background-color: #434B5C;\n",
              "      box-shadow: 0px 1px 3px 1px rgba(0, 0, 0, 0.15);\n",
              "      filter: drop-shadow(0px 1px 2px rgba(0, 0, 0, 0.3));\n",
              "      fill: #FFFFFF;\n",
              "    }\n",
              "  </style>\n",
              "\n",
              "    <script>\n",
              "      const buttonEl =\n",
              "        document.querySelector('#df-52875a4b-5e0a-48f5-9e78-945aac5435e2 button.colab-df-convert');\n",
              "      buttonEl.style.display =\n",
              "        google.colab.kernel.accessAllowed ? 'block' : 'none';\n",
              "\n",
              "      async function convertToInteractive(key) {\n",
              "        const element = document.querySelector('#df-52875a4b-5e0a-48f5-9e78-945aac5435e2');\n",
              "        const dataTable =\n",
              "          await google.colab.kernel.invokeFunction('convertToInteractive',\n",
              "                                                    [key], {});\n",
              "        if (!dataTable) return;\n",
              "\n",
              "        const docLinkHtml = 'Like what you see? Visit the ' +\n",
              "          '<a target=\"_blank\" href=https://colab.research.google.com/notebooks/data_table.ipynb>data table notebook</a>'\n",
              "          + ' to learn more about interactive tables.';\n",
              "        element.innerHTML = '';\n",
              "        dataTable['output_type'] = 'display_data';\n",
              "        await google.colab.output.renderOutput(dataTable, element);\n",
              "        const docLink = document.createElement('div');\n",
              "        docLink.innerHTML = docLinkHtml;\n",
              "        element.appendChild(docLink);\n",
              "      }\n",
              "    </script>\n",
              "  </div>\n",
              "\n",
              "\n",
              "<div id=\"df-73ca5a80-8b3e-480e-bb40-6c64c73ebe37\">\n",
              "  <button class=\"colab-df-quickchart\" onclick=\"quickchart('df-73ca5a80-8b3e-480e-bb40-6c64c73ebe37')\"\n",
              "            title=\"Suggest charts.\"\n",
              "            style=\"display:none;\">\n",
              "\n",
              "<svg xmlns=\"http://www.w3.org/2000/svg\" height=\"24px\"viewBox=\"0 0 24 24\"\n",
              "     width=\"24px\">\n",
              "    <g>\n",
              "        <path d=\"M19 3H5c-1.1 0-2 .9-2 2v14c0 1.1.9 2 2 2h14c1.1 0 2-.9 2-2V5c0-1.1-.9-2-2-2zM9 17H7v-7h2v7zm4 0h-2V7h2v10zm4 0h-2v-4h2v4z\"/>\n",
              "    </g>\n",
              "</svg>\n",
              "  </button>\n",
              "\n",
              "<style>\n",
              "  .colab-df-quickchart {\n",
              "    background-color: #E8F0FE;\n",
              "    border: none;\n",
              "    border-radius: 50%;\n",
              "    cursor: pointer;\n",
              "    display: none;\n",
              "    fill: #1967D2;\n",
              "    height: 32px;\n",
              "    padding: 0 0 0 0;\n",
              "    width: 32px;\n",
              "  }\n",
              "\n",
              "  .colab-df-quickchart:hover {\n",
              "    background-color: #E2EBFA;\n",
              "    box-shadow: 0px 1px 2px rgba(60, 64, 67, 0.3), 0px 1px 3px 1px rgba(60, 64, 67, 0.15);\n",
              "    fill: #174EA6;\n",
              "  }\n",
              "\n",
              "  [theme=dark] .colab-df-quickchart {\n",
              "    background-color: #3B4455;\n",
              "    fill: #D2E3FC;\n",
              "  }\n",
              "\n",
              "  [theme=dark] .colab-df-quickchart:hover {\n",
              "    background-color: #434B5C;\n",
              "    box-shadow: 0px 1px 3px 1px rgba(0, 0, 0, 0.15);\n",
              "    filter: drop-shadow(0px 1px 2px rgba(0, 0, 0, 0.3));\n",
              "    fill: #FFFFFF;\n",
              "  }\n",
              "</style>\n",
              "\n",
              "  <script>\n",
              "    async function quickchart(key) {\n",
              "      const charts = await google.colab.kernel.invokeFunction(\n",
              "          'suggestCharts', [key], {});\n",
              "    }\n",
              "    (() => {\n",
              "      let quickchartButtonEl =\n",
              "        document.querySelector('#df-73ca5a80-8b3e-480e-bb40-6c64c73ebe37 button');\n",
              "      quickchartButtonEl.style.display =\n",
              "        google.colab.kernel.accessAllowed ? 'block' : 'none';\n",
              "    })();\n",
              "  </script>\n",
              "</div>\n",
              "    </div>\n",
              "  </div>\n"
            ]
          },
          "metadata": {},
          "execution_count": 12
        }
      ]
    },
    {
      "cell_type": "code",
      "source": [
        "scaled_data"
      ],
      "metadata": {
        "colab": {
          "base_uri": "https://localhost:8080/"
        },
        "id": "qQAZVU2dzwSH",
        "outputId": "be02073b-514b-4551-b2db-847e3f78c3d3"
      },
      "execution_count": 13,
      "outputs": [
        {
          "output_type": "execute_result",
          "data": {
            "text/plain": [
              "array([[0.03422815, 0.12754057, 0.06876122, ..., 0.12661628, 0.0768435 ,\n",
              "        0.02229794],\n",
              "       [0.        , 0.22951788, 0.02421497, ..., 0.15381989, 0.0368479 ,\n",
              "        0.03522522],\n",
              "       [0.07589671, 0.04746337, 0.05813918, ..., 0.22325168, 0.0394453 ,\n",
              "        0.03292514],\n",
              "       ...,\n",
              "       [0.19405221, 0.19296518, 0.17813763, ..., 0.02139865, 0.        ,\n",
              "        0.        ],\n",
              "       [0.19150965, 0.19714038, 0.14721877, ..., 0.16228829, 0.        ,\n",
              "        0.        ],\n",
              "       [0.13864926, 0.20029148, 0.19311268, ..., 0.0874613 , 0.08298481,\n",
              "        0.        ]])"
            ]
          },
          "metadata": {},
          "execution_count": 13
        }
      ]
    },
    {
      "cell_type": "code",
      "source": [
        "scaled_data.shape"
      ],
      "metadata": {
        "colab": {
          "base_uri": "https://localhost:8080/"
        },
        "id": "DNn9t1nOJTsh",
        "outputId": "d479ad2a-7681-441f-cfb0-1f5d04e6e37c"
      },
      "execution_count": 14,
      "outputs": [
        {
          "output_type": "execute_result",
          "data": {
            "text/plain": [
              "(4680360, 12)"
            ]
          },
          "metadata": {},
          "execution_count": 14
        }
      ]
    },
    {
      "cell_type": "code",
      "source": [
        "features = scaled_data"
      ],
      "metadata": {
        "id": "g1ID-ulrJfzj"
      },
      "execution_count": 15,
      "outputs": []
    },
    {
      "cell_type": "code",
      "source": [
        "targets = pd.read_csv('/content/drive/MyDrive/datathon/sorted_train_data.csv')"
      ],
      "metadata": {
        "id": "6PJAFgoJJ1zm"
      },
      "execution_count": 16,
      "outputs": []
    },
    {
      "cell_type": "code",
      "source": [
        "target = targets['churn_status']"
      ],
      "metadata": {
        "id": "ZsJ2dc6dKBw-"
      },
      "execution_count": 17,
      "outputs": []
    },
    {
      "cell_type": "code",
      "source": [
        "target.shape"
      ],
      "metadata": {
        "colab": {
          "base_uri": "https://localhost:8080/"
        },
        "id": "ZyUhD_exKOtX",
        "outputId": "3bea85fe-e271-4661-fdc7-6ca38fdd4b8c"
      },
      "execution_count": 18,
      "outputs": [
        {
          "output_type": "execute_result",
          "data": {
            "text/plain": [
              "(52004,)"
            ]
          },
          "metadata": {},
          "execution_count": 18
        }
      ]
    },
    {
      "cell_type": "code",
      "source": [
        "i = features.shape[0] // 90\n",
        "reshaped_features = features.reshape(i, 90, 12)\n",
        "reshaped_features.shape"
      ],
      "metadata": {
        "colab": {
          "base_uri": "https://localhost:8080/"
        },
        "id": "QtHntzcuKVaP",
        "outputId": "b0b87419-a0ac-4c64-c075-fcbdc45a1cd9"
      },
      "execution_count": 19,
      "outputs": [
        {
          "output_type": "execute_result",
          "data": {
            "text/plain": [
              "(52004, 90, 12)"
            ]
          },
          "metadata": {},
          "execution_count": 19
        }
      ]
    },
    {
      "cell_type": "code",
      "source": [
        "from sklearn.model_selection import train_test_split"
      ],
      "metadata": {
        "id": "a0utfrWULHW9"
      },
      "execution_count": 20,
      "outputs": []
    },
    {
      "cell_type": "code",
      "source": [
        "x_train, x_test, y_train, y_test = train_test_split(reshaped_features, target, test_size=0.20, random_state=123, shuffle=False)"
      ],
      "metadata": {
        "id": "CuleN82CLN_9"
      },
      "execution_count": 21,
      "outputs": []
    },
    {
      "cell_type": "code",
      "source": [
        "y_train_arr=np.array(y_train)\n",
        "y_test_arr = np.array(y_test)"
      ],
      "metadata": {
        "id": "fCkFo3PsOUDo"
      },
      "execution_count": 118,
      "outputs": []
    },
    {
      "cell_type": "code",
      "source": [
        "x_train.shape"
      ],
      "metadata": {
        "colab": {
          "base_uri": "https://localhost:8080/"
        },
        "id": "VRmGwomjLd1-",
        "outputId": "e0606dc2-e14c-4ce9-dc1b-35f24446ab4c"
      },
      "execution_count": 83,
      "outputs": [
        {
          "output_type": "execute_result",
          "data": {
            "text/plain": [
              "(41603, 90, 12)"
            ]
          },
          "metadata": {},
          "execution_count": 83
        }
      ]
    },
    {
      "cell_type": "code",
      "source": [
        "reshaped_x_train = x_train.reshape(3744270, 12)"
      ],
      "metadata": {
        "id": "x3EO3SjyLsOQ"
      },
      "execution_count": 24,
      "outputs": []
    },
    {
      "cell_type": "code",
      "source": [
        "reshaped_x_train"
      ],
      "metadata": {
        "colab": {
          "base_uri": "https://localhost:8080/"
        },
        "id": "TmUmvDgQL5ai",
        "outputId": "795c9c21-1be2-4c5f-f2df-5e3497c4fdbb"
      },
      "execution_count": 82,
      "outputs": [
        {
          "output_type": "execute_result",
          "data": {
            "text/plain": [
              "array([0.03422815, 0.12754057, 0.06876122, 0.02596919, 0.04797207,\n",
              "       0.        , 0.04267731, 0.06154795, 0.07204763, 0.12661628,\n",
              "       0.0768435 , 0.02229794])"
            ]
          },
          "metadata": {},
          "execution_count": 82
        }
      ]
    },
    {
      "cell_type": "code",
      "source": [
        "x_test.shape"
      ],
      "metadata": {
        "colab": {
          "base_uri": "https://localhost:8080/"
        },
        "id": "N3pt9J95L_Ni",
        "outputId": "1b21bfe7-21b1-4f58-be51-8568dd54c87e"
      },
      "execution_count": 26,
      "outputs": [
        {
          "output_type": "execute_result",
          "data": {
            "text/plain": [
              "(10401, 90, 12)"
            ]
          },
          "metadata": {},
          "execution_count": 26
        }
      ]
    },
    {
      "cell_type": "code",
      "source": [
        "reshaped_x_test = x_test.reshape(936090, 12)"
      ],
      "metadata": {
        "id": "D4iSu1zNMKds"
      },
      "execution_count": 27,
      "outputs": []
    },
    {
      "cell_type": "code",
      "source": [
        "reshaped_x_test[0]"
      ],
      "metadata": {
        "colab": {
          "base_uri": "https://localhost:8080/"
        },
        "id": "MNoVL-wzMTXU",
        "outputId": "f85e5a22-3e2a-4a96-c491-7ff346bbd636"
      },
      "execution_count": 85,
      "outputs": [
        {
          "output_type": "execute_result",
          "data": {
            "text/plain": [
              "array([0.04031215, 0.12765874, 0.        , 0.13412301, 0.14391622,\n",
              "       0.0695715 , 0.10625597, 0.04027317, 0.03015811, 0.04329812,\n",
              "       0.1214836 , 0.        ])"
            ]
          },
          "metadata": {},
          "execution_count": 85
        }
      ]
    },
    {
      "cell_type": "code",
      "source": [
        "def find_y_values(arr_len,strike,data_array):\n",
        "  array_with_value = np.full(arr_len,2)\n",
        "\n",
        "  for i in range(len(data_array)):\n",
        "\n",
        "    c= strike+i*strike\n",
        "\n",
        "    if c<len(array_with_value):\n",
        "      array_with_value[c] = data_array[i]\n",
        "      #print(array_with_value[c],data_array[i])\n",
        "\n",
        "  return array_with_value"
      ],
      "metadata": {
        "id": "05DTuSPloBmi"
      },
      "execution_count": 106,
      "outputs": []
    },
    {
      "cell_type": "code",
      "source": [
        "train_test_lables = find_y_values(len(reshaped_x_train),90,y_train_arr)"
      ],
      "metadata": {
        "id": "00FVtwo1oGUK"
      },
      "execution_count": 116,
      "outputs": []
    },
    {
      "cell_type": "code",
      "source": [
        "test_test_lables = find_y_values(len(reshaped_x_test),90,y_test_arr)"
      ],
      "metadata": {
        "id": "FnZMfCugorBX"
      },
      "execution_count": 119,
      "outputs": []
    },
    {
      "cell_type": "code",
      "source": [
        "test_test_lables[191]"
      ],
      "metadata": {
        "colab": {
          "base_uri": "https://localhost:8080/"
        },
        "id": "b0LevlNwrQOm",
        "outputId": "7b4dcc7f-230b-484d-994a-87e166d94c18"
      },
      "execution_count": 124,
      "outputs": [
        {
          "output_type": "execute_result",
          "data": {
            "text/plain": [
              "2"
            ]
          },
          "metadata": {},
          "execution_count": 124
        }
      ]
    },
    {
      "cell_type": "code",
      "source": [
        "# i = 90\n",
        "# s = 90\n",
        "# iteration = 90 * 41603 / 90\n",
        "# length = 90 * 41603"
      ],
      "metadata": {
        "id": "v6bIEGoRMgs-"
      },
      "execution_count": 34,
      "outputs": []
    },
    {
      "cell_type": "code",
      "source": [
        "# churn_array_train = np.full(length, -1)"
      ],
      "metadata": {
        "id": "Djbm6LWsMgrN"
      },
      "execution_count": 35,
      "outputs": []
    },
    {
      "cell_type": "code",
      "source": [
        "# iteration = 0\n",
        "# index = 0\n",
        "\n",
        "# for x in range(0, 41603):\n",
        "#   index = i + (s * iteration)\n",
        "\n",
        "#   if index == 3744270:\n",
        "#     break\n",
        "\n",
        "#   churn_array_train[index] = y_train[iteration]\n",
        "#   iteration = iteration + 1\n"
      ],
      "metadata": {
        "id": "mI7q0tiEMgo1"
      },
      "execution_count": 38,
      "outputs": []
    },
    {
      "cell_type": "code",
      "source": [
        "# churn_array_train[::90]"
      ],
      "metadata": {
        "id": "OYPLfHw2nm6P"
      },
      "execution_count": null,
      "outputs": []
    },
    {
      "cell_type": "code",
      "source": [
        "# count =0\n",
        "# for _ in churn_array_train:\n",
        "#   if(_==0 or _==1):\n",
        "#     count +=1\n",
        "# print(count)"
      ],
      "metadata": {
        "id": "bAsbszKpMgmV"
      },
      "execution_count": null,
      "outputs": []
    },
    {
      "cell_type": "code",
      "source": [
        "# i = 90\n",
        "# s = 90\n",
        "# len_test = 90*10401\n",
        "# churn_array_test = np.full(len_test, -1)"
      ],
      "metadata": {
        "id": "FGMF6H20QJME"
      },
      "execution_count": 41,
      "outputs": []
    },
    {
      "cell_type": "code",
      "source": [
        "# churn_array_test"
      ],
      "metadata": {
        "id": "O7lRdsGkRvD-"
      },
      "execution_count": null,
      "outputs": []
    },
    {
      "cell_type": "code",
      "source": [
        "# y_test"
      ],
      "metadata": {
        "id": "Y3fIPgilSzaN"
      },
      "execution_count": null,
      "outputs": []
    },
    {
      "cell_type": "code",
      "source": [
        "# iteration = 41603\n",
        "# index = 0\n",
        "\n",
        "# for x in range(0, 10401):\n",
        "#   index = i + (s * (iteration - 41603))\n",
        "\n",
        "#   if index == 936090:\n",
        "#     break\n",
        "\n",
        "#   churn_array_test[index] = y_test[iteration]\n",
        "#   iteration = iteration + 1"
      ],
      "metadata": {
        "id": "QXQd5OFsMgjt"
      },
      "execution_count": 47,
      "outputs": []
    },
    {
      "cell_type": "code",
      "source": [
        "# print(len(churn_array_train))"
      ],
      "metadata": {
        "colab": {
          "base_uri": "https://localhost:8080/"
        },
        "id": "zTjp7WKBMgg-",
        "outputId": "5f4710c4-92f2-4657-b5e9-85eefd2e5fc2"
      },
      "execution_count": 48,
      "outputs": [
        {
          "output_type": "stream",
          "name": "stdout",
          "text": [
            "3744270\n"
          ]
        }
      ]
    },
    {
      "cell_type": "code",
      "source": [
        "# reshaped_x_train.shape"
      ],
      "metadata": {
        "colab": {
          "base_uri": "https://localhost:8080/"
        },
        "id": "TcO93ZzcYK5v",
        "outputId": "deeb8212-dcce-4473-b248-2c12f3314353"
      },
      "execution_count": 49,
      "outputs": [
        {
          "output_type": "execute_result",
          "data": {
            "text/plain": [
              "(3744270, 12)"
            ]
          },
          "metadata": {},
          "execution_count": 49
        }
      ]
    },
    {
      "cell_type": "code",
      "source": [
        "win_length = 90\n",
        "batch_size = 1000\n",
        "num_features = 12\n",
        "\n",
        "train_generator = TimeseriesGenerator(reshaped_x_train,train_test_lables , length = win_length, sampling_rate=1, batch_size=batch_size, stride=90)\n",
        "test_generator = TimeseriesGenerator(reshaped_x_test, test_test_lables, length=win_length, sampling_rate=1, batch_size=batch_size, stride=90)"
      ],
      "metadata": {
        "id": "8x2xUS5zMgal"
      },
      "execution_count": 134,
      "outputs": []
    },
    {
      "cell_type": "code",
      "source": [
        "train_generator[1]"
      ],
      "metadata": {
        "id": "wpqkm45YMgQt"
      },
      "execution_count": null,
      "outputs": []
    },
    {
      "cell_type": "code",
      "source": [
        "train_test_lables[:90]"
      ],
      "metadata": {
        "colab": {
          "base_uri": "https://localhost:8080/"
        },
        "id": "9gKpelNZsA0b",
        "outputId": "4be4d143-daf4-4f45-b418-a11e42ac5226"
      },
      "execution_count": 136,
      "outputs": [
        {
          "output_type": "execute_result",
          "data": {
            "text/plain": [
              "array([2, 2, 2, 2, 2, 2, 2, 2, 2, 2, 2, 2, 2, 2, 2, 2, 2, 2, 2, 2, 2, 2,\n",
              "       2, 2, 2, 2, 2, 2, 2, 2, 2, 2, 2, 2, 2, 2, 2, 2, 2, 2, 2, 2, 2, 2,\n",
              "       2, 2, 2, 2, 2, 2, 2, 2, 2, 2, 2, 2, 2, 2, 2, 2, 2, 2, 2, 2, 2, 2,\n",
              "       2, 2, 2, 2, 2, 2, 2, 2, 2, 2, 2, 2, 2, 2, 2, 2, 2, 2, 2, 2, 2, 2,\n",
              "       2, 2])"
            ]
          },
          "metadata": {},
          "execution_count": 136
        }
      ]
    },
    {
      "cell_type": "code",
      "source": [
        "import tensorflow as tf\n",
        "\n",
        "model = tf.keras.Sequential()\n",
        "model.add(tf.keras.layers.LSTM(1200, input_shape=(win_length,num_features), return_sequences=True))\n",
        "model.add(tf.keras.layers.ReLU())\n",
        "model.add(tf.keras.layers.LSTM(1200, return_sequences=True))\n",
        "model.add(tf.keras.layers.ReLU())\n",
        "model.add(tf.keras.layers.Dropout(0.3))\n",
        "model.add(tf.keras.layers.LSTM(600, return_sequences=False))\n",
        "model.add(tf.keras.layers.Dropout(0.3))\n",
        "model.add(tf.keras.layers.Dense(units=1, activation='sigmoid'))\n"
      ],
      "metadata": {
        "id": "G0088RmhU666"
      },
      "execution_count": 137,
      "outputs": []
    },
    {
      "cell_type": "code",
      "source": [
        "model.summary()"
      ],
      "metadata": {
        "colab": {
          "base_uri": "https://localhost:8080/"
        },
        "id": "tCrVcyVEWXQ8",
        "outputId": "9775f127-f83a-4fb2-8869-9b304e2bd714"
      },
      "execution_count": 138,
      "outputs": [
        {
          "output_type": "stream",
          "name": "stdout",
          "text": [
            "Model: \"sequential_4\"\n",
            "_________________________________________________________________\n",
            " Layer (type)                Output Shape              Param #   \n",
            "=================================================================\n",
            " lstm_12 (LSTM)              (None, 90, 1200)          5822400   \n",
            "                                                                 \n",
            " re_lu_4 (ReLU)              (None, 90, 1200)          0         \n",
            "                                                                 \n",
            " lstm_13 (LSTM)              (None, 90, 1200)          11524800  \n",
            "                                                                 \n",
            " re_lu_5 (ReLU)              (None, 90, 1200)          0         \n",
            "                                                                 \n",
            " dropout_8 (Dropout)         (None, 90, 1200)          0         \n",
            "                                                                 \n",
            " lstm_14 (LSTM)              (None, 600)               4322400   \n",
            "                                                                 \n",
            " dropout_9 (Dropout)         (None, 600)               0         \n",
            "                                                                 \n",
            " dense_4 (Dense)             (None, 1)                 601       \n",
            "                                                                 \n",
            "=================================================================\n",
            "Total params: 21,670,201\n",
            "Trainable params: 21,670,201\n",
            "Non-trainable params: 0\n",
            "_________________________________________________________________\n"
          ]
        }
      ]
    },
    {
      "cell_type": "code",
      "source": [
        "model.compile(loss='binary_crossentropy', optimizer=tf.optimizers.Adam(learning_rate=0.001), metrics=['accuracy'])\n",
        "hisotry = model.fit_generator(train_generator, epochs=50, validation_data=test_generator, shuffle=False)"
      ],
      "metadata": {
        "colab": {
          "base_uri": "https://localhost:8080/"
        },
        "id": "Ey3IBrY7U64m",
        "outputId": "ab710e5f-d1e2-4047-9811-08c63469beb4"
      },
      "execution_count": 139,
      "outputs": [
        {
          "output_type": "stream",
          "name": "stdout",
          "text": [
            "Epoch 1/50\n"
          ]
        },
        {
          "output_type": "stream",
          "name": "stderr",
          "text": [
            "<ipython-input-139-3ea24a72684b>:2: UserWarning: `Model.fit_generator` is deprecated and will be removed in a future version. Please use `Model.fit`, which supports generators.\n",
            "  hisotry = model.fit_generator(train_generator, epochs=50, validation_data=test_generator, shuffle=False)\n"
          ]
        },
        {
          "output_type": "stream",
          "name": "stdout",
          "text": [
            "42/42 [==============================] - 49s 1s/step - loss: 0.3888 - accuracy: 0.8566 - val_loss: 0.1221 - val_accuracy: 0.9523\n",
            "Epoch 2/50\n",
            "42/42 [==============================] - 44s 1s/step - loss: 0.0433 - accuracy: 0.9853 - val_loss: 0.0413 - val_accuracy: 0.9845\n",
            "Epoch 3/50\n",
            "42/42 [==============================] - 44s 1s/step - loss: 0.0370 - accuracy: 0.9874 - val_loss: 0.0358 - val_accuracy: 0.9867\n",
            "Epoch 4/50\n",
            "42/42 [==============================] - 44s 1s/step - loss: 0.0883 - accuracy: 0.9735 - val_loss: 0.0535 - val_accuracy: 0.9844\n",
            "Epoch 5/50\n",
            "42/42 [==============================] - 44s 1s/step - loss: 0.0396 - accuracy: 0.9866 - val_loss: 0.0335 - val_accuracy: 0.9882\n",
            "Epoch 6/50\n",
            "42/42 [==============================] - 44s 1s/step - loss: 0.0347 - accuracy: 0.9881 - val_loss: 0.0307 - val_accuracy: 0.9892\n",
            "Epoch 7/50\n",
            "42/42 [==============================] - 44s 1s/step - loss: 0.0313 - accuracy: 0.9893 - val_loss: 0.0274 - val_accuracy: 0.9907\n",
            "Epoch 8/50\n",
            "42/42 [==============================] - 44s 1s/step - loss: 0.0270 - accuracy: 0.9908 - val_loss: 0.0266 - val_accuracy: 0.9910\n",
            "Epoch 9/50\n",
            "42/42 [==============================] - 44s 1s/step - loss: 0.0294 - accuracy: 0.9895 - val_loss: 0.0273 - val_accuracy: 0.9903\n",
            "Epoch 10/50\n",
            "42/42 [==============================] - 44s 1s/step - loss: 0.0274 - accuracy: 0.9905 - val_loss: 0.0266 - val_accuracy: 0.9902\n",
            "Epoch 11/50\n",
            "42/42 [==============================] - 44s 1s/step - loss: 0.0235 - accuracy: 0.9915 - val_loss: 0.0243 - val_accuracy: 0.9922\n",
            "Epoch 12/50\n",
            "42/42 [==============================] - 44s 1s/step - loss: 0.0215 - accuracy: 0.9925 - val_loss: 0.0230 - val_accuracy: 0.9921\n",
            "Epoch 13/50\n",
            "42/42 [==============================] - 44s 1s/step - loss: 0.0209 - accuracy: 0.9932 - val_loss: 0.0204 - val_accuracy: 0.9934\n",
            "Epoch 14/50\n",
            "42/42 [==============================] - 44s 1s/step - loss: 0.0204 - accuracy: 0.9933 - val_loss: 0.0167 - val_accuracy: 0.9944\n",
            "Epoch 15/50\n",
            "42/42 [==============================] - 44s 1s/step - loss: 0.0169 - accuracy: 0.9944 - val_loss: 0.0171 - val_accuracy: 0.9945\n",
            "Epoch 16/50\n",
            "42/42 [==============================] - 44s 1s/step - loss: 0.0159 - accuracy: 0.9948 - val_loss: 0.0193 - val_accuracy: 0.9945\n",
            "Epoch 17/50\n",
            "42/42 [==============================] - 44s 1s/step - loss: 0.0157 - accuracy: 0.9949 - val_loss: 0.0161 - val_accuracy: 0.9953\n",
            "Epoch 18/50\n",
            "42/42 [==============================] - 44s 1s/step - loss: 0.0148 - accuracy: 0.9952 - val_loss: 0.0147 - val_accuracy: 0.9952\n",
            "Epoch 19/50\n",
            "42/42 [==============================] - 44s 1s/step - loss: 0.0137 - accuracy: 0.9956 - val_loss: 0.0162 - val_accuracy: 0.9948\n",
            "Epoch 20/50\n",
            "42/42 [==============================] - 44s 1s/step - loss: 0.0122 - accuracy: 0.9961 - val_loss: 0.0174 - val_accuracy: 0.9951\n",
            "Epoch 21/50\n",
            "42/42 [==============================] - 44s 1s/step - loss: 0.0162 - accuracy: 0.9944 - val_loss: 0.0173 - val_accuracy: 0.9947\n",
            "Epoch 22/50\n",
            "42/42 [==============================] - 44s 1s/step - loss: 0.0122 - accuracy: 0.9957 - val_loss: 0.0148 - val_accuracy: 0.9954\n",
            "Epoch 23/50\n",
            "42/42 [==============================] - 44s 1s/step - loss: 0.0107 - accuracy: 0.9966 - val_loss: 0.0157 - val_accuracy: 0.9956\n",
            "Epoch 24/50\n",
            "42/42 [==============================] - 44s 1s/step - loss: 0.0134 - accuracy: 0.9957 - val_loss: 0.0171 - val_accuracy: 0.9954\n",
            "Epoch 25/50\n",
            "42/42 [==============================] - 44s 1s/step - loss: 0.0126 - accuracy: 0.9959 - val_loss: 0.0202 - val_accuracy: 0.9945\n",
            "Epoch 26/50\n",
            "42/42 [==============================] - 44s 1s/step - loss: 0.0127 - accuracy: 0.9955 - val_loss: 0.0160 - val_accuracy: 0.9956\n",
            "Epoch 27/50\n",
            "42/42 [==============================] - 44s 1s/step - loss: 0.0109 - accuracy: 0.9962 - val_loss: 0.0160 - val_accuracy: 0.9951\n",
            "Epoch 28/50\n",
            "42/42 [==============================] - 44s 1s/step - loss: 0.0134 - accuracy: 0.9953 - val_loss: 0.0198 - val_accuracy: 0.9941\n",
            "Epoch 29/50\n",
            "42/42 [==============================] - 44s 1s/step - loss: 0.0114 - accuracy: 0.9961 - val_loss: 0.0153 - val_accuracy: 0.9956\n",
            "Epoch 30/50\n",
            "42/42 [==============================] - 44s 1s/step - loss: 0.0124 - accuracy: 0.9956 - val_loss: 0.0164 - val_accuracy: 0.9947\n",
            "Epoch 31/50\n",
            "42/42 [==============================] - 44s 1s/step - loss: 0.0103 - accuracy: 0.9964 - val_loss: 0.0204 - val_accuracy: 0.9944\n",
            "Epoch 32/50\n",
            "42/42 [==============================] - 44s 1s/step - loss: 0.0106 - accuracy: 0.9966 - val_loss: 0.0151 - val_accuracy: 0.9961\n",
            "Epoch 33/50\n",
            "42/42 [==============================] - 44s 1s/step - loss: 0.0101 - accuracy: 0.9965 - val_loss: 0.0160 - val_accuracy: 0.9953\n",
            "Epoch 34/50\n",
            "42/42 [==============================] - 44s 1s/step - loss: 0.0121 - accuracy: 0.9962 - val_loss: 0.0182 - val_accuracy: 0.9947\n",
            "Epoch 35/50\n",
            "42/42 [==============================] - 44s 1s/step - loss: 0.0126 - accuracy: 0.9959 - val_loss: 0.0180 - val_accuracy: 0.9941\n",
            "Epoch 36/50\n",
            "42/42 [==============================] - 44s 1s/step - loss: 0.0105 - accuracy: 0.9964 - val_loss: 0.0234 - val_accuracy: 0.9933\n",
            "Epoch 37/50\n",
            "42/42 [==============================] - 44s 1s/step - loss: 0.0108 - accuracy: 0.9962 - val_loss: 0.0176 - val_accuracy: 0.9953\n",
            "Epoch 38/50\n",
            "42/42 [==============================] - 44s 1s/step - loss: 0.0111 - accuracy: 0.9963 - val_loss: 0.0174 - val_accuracy: 0.9947\n",
            "Epoch 39/50\n",
            "42/42 [==============================] - 44s 1s/step - loss: 0.0096 - accuracy: 0.9972 - val_loss: 0.0213 - val_accuracy: 0.9939\n",
            "Epoch 40/50\n",
            "42/42 [==============================] - 44s 1s/step - loss: 0.0110 - accuracy: 0.9963 - val_loss: 0.0164 - val_accuracy: 0.9958\n",
            "Epoch 41/50\n",
            "42/42 [==============================] - 44s 1s/step - loss: 0.0104 - accuracy: 0.9963 - val_loss: 0.0167 - val_accuracy: 0.9954\n",
            "Epoch 42/50\n",
            "42/42 [==============================] - 44s 1s/step - loss: 0.0107 - accuracy: 0.9964 - val_loss: 0.0150 - val_accuracy: 0.9953\n",
            "Epoch 43/50\n",
            "42/42 [==============================] - 44s 1s/step - loss: 0.0084 - accuracy: 0.9974 - val_loss: 0.0154 - val_accuracy: 0.9952\n",
            "Epoch 44/50\n",
            "42/42 [==============================] - 44s 1s/step - loss: 0.0086 - accuracy: 0.9972 - val_loss: 0.0150 - val_accuracy: 0.9956\n",
            "Epoch 45/50\n",
            "42/42 [==============================] - 44s 1s/step - loss: 0.0113 - accuracy: 0.9961 - val_loss: 0.0151 - val_accuracy: 0.9953\n",
            "Epoch 46/50\n",
            "42/42 [==============================] - 44s 1s/step - loss: 0.0082 - accuracy: 0.9973 - val_loss: 0.0149 - val_accuracy: 0.9955\n",
            "Epoch 47/50\n",
            "42/42 [==============================] - 44s 1s/step - loss: 0.0092 - accuracy: 0.9969 - val_loss: 0.0207 - val_accuracy: 0.9948\n",
            "Epoch 48/50\n",
            "42/42 [==============================] - 44s 1s/step - loss: 0.0101 - accuracy: 0.9963 - val_loss: 0.0193 - val_accuracy: 0.9950\n",
            "Epoch 49/50\n",
            "42/42 [==============================] - 44s 1s/step - loss: 0.0081 - accuracy: 0.9970 - val_loss: 0.0147 - val_accuracy: 0.9959\n",
            "Epoch 50/50\n",
            "42/42 [==============================] - 44s 1s/step - loss: 0.0093 - accuracy: 0.9969 - val_loss: 0.0142 - val_accuracy: 0.9954\n"
          ]
        }
      ]
    },
    {
      "cell_type": "code",
      "source": [
        "test_data = pd.read_csv('/content/drive/MyDrive/datathon/sorted_filtered_test_source_data.csv')\n"
      ],
      "metadata": {
        "id": "w0SFx0sMU62F"
      },
      "execution_count": 140,
      "outputs": []
    },
    {
      "cell_type": "code",
      "source": [
        "customer_id_column = test_data['customer_id']\n",
        "day_no_column = test_data['day_no']\n",
        "columns_to_normalize = test_data.columns.difference(['customer_id','day_no'])\n",
        "\n",
        "# Extract the columns you want to normalize using double square brackets\n",
        "features = test_data[columns_to_normalize]\n",
        "\n",
        "# Create a StandardScaler instance\n",
        "scaler = MinMaxScaler()\n",
        "\n",
        "# Fit the scaler on your feature data to compute mean and standard deviation\n",
        "scaler.fit(features)\n",
        "\n",
        "# Transform the features to have zero mean and unit variance\n",
        "normalized_features = scaler.transform(features)\n",
        "scaled_data = scaler.fit_transform(features)\n",
        "\n"
      ],
      "metadata": {
        "id": "9vQiP3mKU6zs"
      },
      "execution_count": 141,
      "outputs": []
    },
    {
      "cell_type": "code",
      "source": [
        "scaled_data.shape"
      ],
      "metadata": {
        "colab": {
          "base_uri": "https://localhost:8080/"
        },
        "id": "f0yaGW05U6w6",
        "outputId": "5b623d91-20cd-42c8-9528-f61e3612e0dd"
      },
      "execution_count": 143,
      "outputs": [
        {
          "output_type": "execute_result",
          "data": {
            "text/plain": [
              "(1170090, 12)"
            ]
          },
          "metadata": {},
          "execution_count": 143
        }
      ]
    },
    {
      "cell_type": "code",
      "source": [
        "scaled_data[0]"
      ],
      "metadata": {
        "colab": {
          "base_uri": "https://localhost:8080/"
        },
        "id": "p4e-5fIU15eA",
        "outputId": "aa588656-3c95-4ac4-bde5-3a7d3603371b"
      },
      "execution_count": 147,
      "outputs": [
        {
          "output_type": "execute_result",
          "data": {
            "text/plain": [
              "array([0.04481355, 0.07390598, 0.16735366, 0.        , 0.        ,\n",
              "       0.02893026, 0.        , 0.03668237, 0.06372681, 0.04572412,\n",
              "       0.04766904, 0.04059129])"
            ]
          },
          "metadata": {},
          "execution_count": 147
        }
      ]
    },
    {
      "cell_type": "code",
      "source": [
        "b = scaled_data.shape[0]//90\n",
        "reshaped_scaled_data = scaled_data.reshape(b,90,12)\n",
        "\n",
        "prediction = model.predict(reshaped_scaled_data)"
      ],
      "metadata": {
        "colab": {
          "base_uri": "https://localhost:8080/"
        },
        "id": "iNg3GfENU6uS",
        "outputId": "51410909-df77-44be-c9f6-1f3050e025d6"
      },
      "execution_count": 150,
      "outputs": [
        {
          "output_type": "stream",
          "name": "stdout",
          "text": [
            "407/407 [==============================] - 9s 22ms/step\n"
          ]
        }
      ]
    },
    {
      "cell_type": "code",
      "source": [
        "binary_predictions = (prediction > 0.5).astype(int)"
      ],
      "metadata": {
        "id": "Su3vvg9b2Unx"
      },
      "execution_count": 152,
      "outputs": []
    },
    {
      "cell_type": "code",
      "source": [
        "ground_truth = pd.read_csv('/content/drive/MyDrive/datathon/sorted_ground_truth.csv')"
      ],
      "metadata": {
        "id": "FQRcmcI0U6op"
      },
      "execution_count": 156,
      "outputs": []
    },
    {
      "cell_type": "code",
      "source": [
        "ground_truth_values = ground_truth['churn_status']"
      ],
      "metadata": {
        "id": "uOvOoNti4kQ5"
      },
      "execution_count": 158,
      "outputs": []
    },
    {
      "cell_type": "code",
      "source": [
        "flatten = binary_predictions.flatten()"
      ],
      "metadata": {
        "id": "hxXDbn-u6Wg0"
      },
      "execution_count": 163,
      "outputs": []
    },
    {
      "cell_type": "code",
      "source": [
        "flatten[:50]"
      ],
      "metadata": {
        "colab": {
          "base_uri": "https://localhost:8080/"
        },
        "id": "b-SZ3emj7Fzh",
        "outputId": "99d37ae8-e06e-41af-d6e6-b35ecf0683a6"
      },
      "execution_count": 175,
      "outputs": [
        {
          "output_type": "execute_result",
          "data": {
            "text/plain": [
              "array([0, 1, 0, 1, 0, 0, 0, 1, 0, 0, 1, 0, 0, 1, 0, 1, 1, 0, 1, 0, 1, 0,\n",
              "       0, 0, 0, 0, 0, 1, 0, 1, 1, 1, 1, 0, 1, 0, 0, 0, 0, 0, 0, 0, 0, 0,\n",
              "       0, 0, 1, 0, 1, 0])"
            ]
          },
          "metadata": {},
          "execution_count": 175
        }
      ]
    },
    {
      "cell_type": "code",
      "source": [
        "ground_truth_values.values[:50]"
      ],
      "metadata": {
        "colab": {
          "base_uri": "https://localhost:8080/"
        },
        "id": "XagoaCee6eH0",
        "outputId": "fff5e6e4-07e8-4951-c89c-84d90a8efe87"
      },
      "execution_count": 174,
      "outputs": [
        {
          "output_type": "execute_result",
          "data": {
            "text/plain": [
              "array([0, 1, 0, 1, 0, 0, 0, 1, 0, 0, 1, 0, 0, 1, 0, 1, 1, 0, 1, 0, 1, 0,\n",
              "       0, 0, 0, 0, 0, 1, 0, 1, 1, 1, 1, 0, 1, 0, 0, 0, 0, 0, 0, 0, 0, 0,\n",
              "       0, 0, 1, 0, 1, 0])"
            ]
          },
          "metadata": {},
          "execution_count": 174
        }
      ]
    },
    {
      "cell_type": "code",
      "source": [
        "accuracy = np.mean(flatten == ground_truth_values.values)"
      ],
      "metadata": {
        "id": "4UinFdDY6EW-"
      },
      "execution_count": 176,
      "outputs": []
    },
    {
      "cell_type": "code",
      "source": [
        "accuracy"
      ],
      "metadata": {
        "colab": {
          "base_uri": "https://localhost:8080/"
        },
        "id": "YznVf9LD6ETd",
        "outputId": "67339774-f664-4307-e6bf-0c441d927010"
      },
      "execution_count": 177,
      "outputs": [
        {
          "output_type": "execute_result",
          "data": {
            "text/plain": [
              "0.9954618875471117"
            ]
          },
          "metadata": {},
          "execution_count": 177
        }
      ]
    }
  ]
}